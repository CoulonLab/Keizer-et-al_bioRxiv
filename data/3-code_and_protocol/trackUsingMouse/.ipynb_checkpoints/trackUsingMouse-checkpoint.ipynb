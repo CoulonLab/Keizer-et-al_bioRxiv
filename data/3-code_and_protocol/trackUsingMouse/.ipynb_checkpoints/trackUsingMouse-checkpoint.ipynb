{
 "cells": [
  {
   "cell_type": "markdown",
   "metadata": {},
   "source": [
    "# Manual assisted tracking\n",
    "\n",
    "Code under GPLv3+ license <br>\n",
    "Antoine Coulon, 2021 (Institut Curie – CNRS). antoine.coulon@curie.fr"
   ]
  },
  {
   "cell_type": "code",
   "execution_count": 1,
   "metadata": {},
   "outputs": [],
   "source": [
    "import tracking as trk\n",
    "\n",
    "## First, adjust the following:\n",
    "\n",
    "trk.fijiCmd='/Applications/Fiji.app/Contents/MacOS/ImageJ-macosx' # Mac\n",
    "#trk.fijiCmd='C:/Users/Coulon_team/.Fiji.app/ImageJ-win64.exe'     # Windows\n",
    "#trk.fijiCmd='/usr/bin/fiji'                                       # Linux\n"
   ]
  },
  {
   "cell_type": "markdown",
   "metadata": {},
   "source": [
    "## Manual tracking\n",
    "\n",
    "When you execute `trackUsingMouse()`:\n",
    "1. The TIF file is shown in Fiji and you have to follow the spot of interest with the mouse (see`fps`  elow for details). When done, close the window (depending on you system, you may also have to close Fiji). A `.mtrk` file is created (columns specified in header).  \n",
    "If __`performFit`__ is set to`True`, then:\n",
    "2. Spots are detected using a s.d. threshold on a bandpass filtered image. The\n",
    "     region of interest (ROI) is centered on the position of the mouse. The detected\n",
    "     spot that is the closest to both the mouse position and the spot found in\n",
    "     the previous image (mim square sum) is selected.\n",
    "3. Iterative Gaussian mask fitting is used to localize and fit the spot in each\n",
    "     frame. A `.trk2` file is created (columns specified in header).  \n",
    "  \n",
    "\n",
    "Parameters:\n",
    "- __`fnTif`__:         Full path of the TIF file to be tracked.\n",
    "- __`fnSuff`__:        Suffix added at the end of the TIF file name for the resulting `.mtrk` and `.trk2` files.\n",
    "- __`fps`__:           Frame rate at which the movie is played during the manual tracking.  \n",
    "If `0`, the movie has to be played manually (with right/left arrows or mouse wheel). You can go back and forth, only the last time a frame is shown is retained. (Caution: The mouse coordinates for a given frame are recorded when switching from that frame to another one. Hence, when you reach the end of the movie, you will need to go one frame back so that last frame is recorded too).  \n",
    "If `< 0`, fiji macro will not be run so that the existing `.mtrk` file is re-used. (Default: `0`)\n",
    "- __`performFit`__     If `False`, only the `.mtrk` file is generated. If `True`, Gaussian mask fitting is performed using the following parameters (note: only works on single-channel images for now).\n",
    "- __`psfPx`__:         PSF size in pixels. Used for the bandpass filtering. (Default: `1.7`)\n",
    "- __`psfZPx`__:        PSD size in pixels in Z. If `None`, the value of `psfPx` is used.\n",
    "- __`thresholdSD`__:   Number of standard deviations used to detect objects in the bandpassed image. (Default: `5.`)\n",
    "- __`roiSize`__:       Size in pixels of the ROI. (Default: `40`)\n",
    "- __`border`__:        Number of pixels added one each side of the ROI in the bandpass filtering and removed afterwards. (Default: 3)\n",
    "- __`distThreshold`__: Maximal distance that the spot can be from the position of the mouse. Used for both object detection in the bandpassed-filtered image and for testing the convergence of the Gaussian fit algorithm. (Default: 20.)\n",
    "- __`trackMemory`__:   Maximal number of frames used for the location of the previous spot. If 0, only the distance to the mouse coordinates is used. (Default: 0)\n",
    "- __`reactionDelay`__: Time delay (in sec) by which the manual coordinates are expected to be lagging. (Default: 0.)\n",
    "- __`disp`__:          If `1`, the result of the tracking is displayed as graphs. If `2`, a `..._track.tif` file is created for visual inspection. Can be combined; e.g. `disp=1+2`. (Default: `3`)\n"
   ]
  },
  {
   "cell_type": "code",
   "execution_count": null,
   "metadata": {
    "scrolled": false
   },
   "outputs": [],
   "source": [
    "basePath='/Put/the/path/to/your/data/here/'\n",
    "\n",
    "trk.trackUsingMouse(basePath+'youFile.tif','_spot1',fps=5)\n"
   ]
  },
  {
   "cell_type": "code",
   "execution_count": null,
   "metadata": {},
   "outputs": [],
   "source": []
  }
 ],
 "metadata": {
  "kernelspec": {
   "display_name": "Python 3",
   "language": "python",
   "name": "python3"
  },
  "language_info": {
   "codemirror_mode": {
    "name": "ipython",
    "version": 3
   },
   "file_extension": ".py",
   "mimetype": "text/x-python",
   "name": "python",
   "nbconvert_exporter": "python",
   "pygments_lexer": "ipython3",
   "version": "3.6.6"
  }
 },
 "nbformat": 4,
 "nbformat_minor": 2
}
